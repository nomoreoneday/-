{
 "cells": [
  {
   "cell_type": "code",
   "execution_count": 26,
   "metadata": {},
   "outputs": [],
   "source": [
    "import jieba\n",
    "from sklearn.feature_extraction.text import CountVectorizer, TfidfTransformer\n",
    "from sklearn.model_selection import train_test_split, cross_validate\n",
    "from sklearn.metrics import accuracy_score, precision_score, recall_score, f1_score\n",
    "from sklearn.naive_bayes import MultinomialNB\n",
    "from sklearn.metrics.pairwise import cosine_similarity\n",
    "import pickle\n",
    "from tqdm import tqdm\n",
    "from pprint import pprint\n",
    "import os\n",
    "import pandas as pd\n",
    "import numpy as np"
   ]
  },
  {
   "cell_type": "code",
   "execution_count": 10,
   "metadata": {},
   "outputs": [],
   "source": [
    "with open('chinese_stopwords.txt','r',encoding = 'utf-8') as fp:\n",
    "    stopwords = [i[:-1] for i in fp.readlines()]"
   ]
  },
  {
   "cell_type": "code",
   "execution_count": 6,
   "metadata": {},
   "outputs": [
    {
     "name": "stdout",
     "output_type": "stream",
     "text": [
      "(89611, 7)\n"
     ]
    },
    {
     "data": {
      "text/html": [
       "<div>\n",
       "<style scoped>\n",
       "    .dataframe tbody tr th:only-of-type {\n",
       "        vertical-align: middle;\n",
       "    }\n",
       "\n",
       "    .dataframe tbody tr th {\n",
       "        vertical-align: top;\n",
       "    }\n",
       "\n",
       "    .dataframe thead th {\n",
       "        text-align: right;\n",
       "    }\n",
       "</style>\n",
       "<table border=\"1\" class=\"dataframe\">\n",
       "  <thead>\n",
       "    <tr style=\"text-align: right;\">\n",
       "      <th></th>\n",
       "      <th>id</th>\n",
       "      <th>author</th>\n",
       "      <th>source</th>\n",
       "      <th>content</th>\n",
       "      <th>feature</th>\n",
       "      <th>title</th>\n",
       "      <th>url</th>\n",
       "    </tr>\n",
       "  </thead>\n",
       "  <tbody>\n",
       "    <tr>\n",
       "      <th>0</th>\n",
       "      <td>89617</td>\n",
       "      <td>NaN</td>\n",
       "      <td>快科技@http://www.kkj.cn/</td>\n",
       "      <td>此外，自本周（6月12日）起，除小米手机6等15款机型外，其余机型已暂停更新发布（含开发版/...</td>\n",
       "      <td>{\"type\":\"科技\",\"site\":\"cnbeta\",\"commentNum\":\"37\"...</td>\n",
       "      <td>小米MIUI 9首批机型曝光：共计15款</td>\n",
       "      <td>http://www.cnbeta.com/articles/tech/623597.htm</td>\n",
       "    </tr>\n",
       "    <tr>\n",
       "      <th>1</th>\n",
       "      <td>89616</td>\n",
       "      <td>NaN</td>\n",
       "      <td>快科技@http://www.kkj.cn/</td>\n",
       "      <td>骁龙835作为唯一通过Windows 10桌面平台认证的ARM处理器，高通强调，不会因为只考...</td>\n",
       "      <td>{\"type\":\"科技\",\"site\":\"cnbeta\",\"commentNum\":\"15\"...</td>\n",
       "      <td>骁龙835在Windows 10上的性能表现有望改善</td>\n",
       "      <td>http://www.cnbeta.com/articles/tech/623599.htm</td>\n",
       "    </tr>\n",
       "    <tr>\n",
       "      <th>2</th>\n",
       "      <td>89615</td>\n",
       "      <td>NaN</td>\n",
       "      <td>快科技@http://www.kkj.cn/</td>\n",
       "      <td>此前的一加3T搭载的是3400mAh电池，DashCharge快充规格为5V/4A。\\r\\n...</td>\n",
       "      <td>{\"type\":\"科技\",\"site\":\"cnbeta\",\"commentNum\":\"18\"...</td>\n",
       "      <td>一加手机5细节曝光：3300mAh、充半小时用1天</td>\n",
       "      <td>http://www.cnbeta.com/articles/tech/623601.htm</td>\n",
       "    </tr>\n",
       "    <tr>\n",
       "      <th>3</th>\n",
       "      <td>89614</td>\n",
       "      <td>NaN</td>\n",
       "      <td>新华社</td>\n",
       "      <td>这是6月18日在葡萄牙中部大佩德罗冈地区拍摄的被森林大火烧毁的汽车。新华社记者张立云摄\\r\\n</td>\n",
       "      <td>{\"type\":\"国际新闻\",\"site\":\"环球\",\"commentNum\":\"0\",\"j...</td>\n",
       "      <td>葡森林火灾造成至少62人死亡 政府宣布进入紧急状态（组图）</td>\n",
       "      <td>http://world.huanqiu.com/hot/2017-06/10866126....</td>\n",
       "    </tr>\n",
       "    <tr>\n",
       "      <th>4</th>\n",
       "      <td>89613</td>\n",
       "      <td>胡淑丽_MN7479</td>\n",
       "      <td>深圳大件事</td>\n",
       "      <td>（原标题：44岁女子跑深圳约会网友被拒，暴雨中裸身奔走……）\\r\\n@深圳交警微博称：昨日清...</td>\n",
       "      <td>{\"type\":\"新闻\",\"site\":\"网易热门\",\"commentNum\":\"978\",...</td>\n",
       "      <td>44岁女子约网友被拒暴雨中裸奔 交警为其披衣相随</td>\n",
       "      <td>http://news.163.com/17/0618/00/CN617P3Q0001875...</td>\n",
       "    </tr>\n",
       "  </tbody>\n",
       "</table>\n",
       "</div>"
      ],
      "text/plain": [
       "      id      author                  source  \\\n",
       "0  89617         NaN  快科技@http://www.kkj.cn/   \n",
       "1  89616         NaN  快科技@http://www.kkj.cn/   \n",
       "2  89615         NaN  快科技@http://www.kkj.cn/   \n",
       "3  89614         NaN                     新华社   \n",
       "4  89613  胡淑丽_MN7479                   深圳大件事   \n",
       "\n",
       "                                             content  \\\n",
       "0  此外，自本周（6月12日）起，除小米手机6等15款机型外，其余机型已暂停更新发布（含开发版/...   \n",
       "1  骁龙835作为唯一通过Windows 10桌面平台认证的ARM处理器，高通强调，不会因为只考...   \n",
       "2  此前的一加3T搭载的是3400mAh电池，DashCharge快充规格为5V/4A。\\r\\n...   \n",
       "3    这是6月18日在葡萄牙中部大佩德罗冈地区拍摄的被森林大火烧毁的汽车。新华社记者张立云摄\\r\\n   \n",
       "4  （原标题：44岁女子跑深圳约会网友被拒，暴雨中裸身奔走……）\\r\\n@深圳交警微博称：昨日清...   \n",
       "\n",
       "                                             feature  \\\n",
       "0  {\"type\":\"科技\",\"site\":\"cnbeta\",\"commentNum\":\"37\"...   \n",
       "1  {\"type\":\"科技\",\"site\":\"cnbeta\",\"commentNum\":\"15\"...   \n",
       "2  {\"type\":\"科技\",\"site\":\"cnbeta\",\"commentNum\":\"18\"...   \n",
       "3  {\"type\":\"国际新闻\",\"site\":\"环球\",\"commentNum\":\"0\",\"j...   \n",
       "4  {\"type\":\"新闻\",\"site\":\"网易热门\",\"commentNum\":\"978\",...   \n",
       "\n",
       "                           title  \\\n",
       "0           小米MIUI 9首批机型曝光：共计15款   \n",
       "1     骁龙835在Windows 10上的性能表现有望改善   \n",
       "2      一加手机5细节曝光：3300mAh、充半小时用1天   \n",
       "3  葡森林火灾造成至少62人死亡 政府宣布进入紧急状态（组图）   \n",
       "4       44岁女子约网友被拒暴雨中裸奔 交警为其披衣相随   \n",
       "\n",
       "                                                 url  \n",
       "0     http://www.cnbeta.com/articles/tech/623597.htm  \n",
       "1     http://www.cnbeta.com/articles/tech/623599.htm  \n",
       "2     http://www.cnbeta.com/articles/tech/623601.htm  \n",
       "3  http://world.huanqiu.com/hot/2017-06/10866126....  \n",
       "4  http://news.163.com/17/0618/00/CN617P3Q0001875...  "
      ]
     },
     "execution_count": 6,
     "metadata": {},
     "output_type": "execute_result"
    }
   ],
   "source": [
    "news = pd.read_csv('sqlResult.csv',encoding = 'gb18030')\n",
    "print(news.shape)\n",
    "news.head()"
   ]
  },
  {
   "cell_type": "code",
   "execution_count": 7,
   "metadata": {},
   "outputs": [
    {
     "name": "stdout",
     "output_type": "stream",
     "text": [
      "         id author     source content  \\\n",
      "100   89517    NaN  中国证券报?中证网     NaN   \n",
      "103   89514    NaN  中国证券报?中证网     NaN   \n",
      "997   88620    NaN        央广网     NaN   \n",
      "1273  88344    NaN        央广网     NaN   \n",
      "1282  88335    NaN        央广网     NaN   \n",
      "\n",
      "                                                feature  \\\n",
      "100   {\"type\":\"公司\",\"site\":\"中证网\",\"commentNum\":\"0\",\"jo...   \n",
      "103   {\"type\":\"公司\",\"site\":\"中证网\",\"commentNum\":\"0\",\"jo...   \n",
      "997   {\"type\":\"时事要闻\",\"site\":\"参考消息\",\"commentNum\":\"0\",...   \n",
      "1273  {\"type\":\"IT业界\",\"site\":\"参考消息\",\"commentNum\":\"0\",...   \n",
      "1282  {\"type\":\"IT业界\",\"site\":\"参考消息\",\"commentNum\":\"0\",...   \n",
      "\n",
      "                                 title  \\\n",
      "100       天和防务股东未来6个月内计划减持不超过480万股公司股份   \n",
      "103                    晶盛机电调整限制性股票回购价格   \n",
      "997              [主播不在家]第二季：主播陈亮体验垃圾清运   \n",
      "1273                LKK洛可可：想象力经济时代或已到来   \n",
      "1282  CES2017：京东发布两款叮咚智能音箱新品 开放Alpha平台   \n",
      "\n",
      "                                                    url  \n",
      "100   http://www.cs.com.cn/ssgs/gsxw/201706/t2017062...  \n",
      "103   http://www.cs.com.cn/ssgs/gsxw/201706/t2017062...  \n",
      "997   http://www.cankaoxiaoxi.com/china/20170623/214...  \n",
      "1273  http://www.cankaoxiaoxi.com/science/20170610/2...  \n",
      "1282  http://www.cankaoxiaoxi.com/science/20170610/2...  \n",
      "(87054, 7)\n"
     ]
    }
   ],
   "source": [
    "#处理缺失值\n",
    "print(news[news.content.isna()].head(5))\n",
    "news = news.dropna(subset  = ['content'])\n",
    "print(news.shape)"
   ]
  },
  {
   "cell_type": "code",
   "execution_count": 8,
   "metadata": {},
   "outputs": [],
   "source": [
    "#分词\n",
    "def split_text(text):\n",
    "    text = text.replace(' ','')\n",
    "    text = text.replace('\\n','')\n",
    "    text2 = jieba.cut(text.strip())\n",
    "    result = ' '.join([w for w in text2 if w not in stopwords])\n",
    "    return result"
   ]
  },
  {
   "cell_type": "code",
   "execution_count": 11,
   "metadata": {},
   "outputs": [
    {
     "name": "stdout",
     "output_type": "stream",
     "text": [
      "此外，自本周（6月12日）起，除小米手机6等15款机型外，其余机型已暂停更新发布（含开发版/体验版内测，稳定版暂不受影响），以确保工程师可以集中全部精力进行系统优化工作。有人猜测这也是将精力主要用到MIUI 9的研发之中。\r\n",
      "MIUI 8去年5月发布，距今已有一年有余，也是时候更新换代了。\r\n",
      "当然，关于MIUI 9的确切信息，我们还是等待官方消息。\r\n",
      "\n",
      "此外 本周 除 小米 手机 款 机型 外 机型 暂停 更新 发布 含 开发 版 体验版 内测 稳定版 暂不受 影响 确保 工程师 集中 全部 精力 进行 系统优化 工作 有人 猜测 精力 主要 用到 MIUI9 研发 之中 \r",
      " MIUI8 去年 发布 距今已有 一年 有余 更新换代 \r",
      " 当然 MIUI9 确切 信息 等待 官方消息\n"
     ]
    }
   ],
   "source": [
    "print(news.iloc[0].content)\n",
    "print(split_text(news.iloc[0].content))"
   ]
  },
  {
   "cell_type": "code",
   "execution_count": 12,
   "metadata": {},
   "outputs": [
    {
     "name": "stdout",
     "output_type": "stream",
     "text": [
      "此外 本周 除 小米 手机 款 机型 外 机型 暂停 更新 发布 含 开发 版 体验版 内测 稳定版 暂不受 影响 确保 工程师 集中 全部 精力 进行 系统优化 工作 有人 猜测 精力 主要 用到 MIUI9 研发 之中 \r",
      " MIUI8 去年 发布 距今已有 一年 有余 更新换代 \r",
      " 当然 MIUI9 确切 信息 等待 官方消息\n",
      "87054\n",
      "此外 本周 除 小米 手机 款 机型 外 机型 暂停 更新 发布 含 开发 版 体验版 内测 稳定版 暂不受 影响 确保 工程师 集中 全部 精力 进行 系统优化 工作 有人 猜测 精力 主要 用到 MIUI9 研发 之中 \r",
      " MIUI8 去年 发布 距今已有 一年 有余 更新换代 \r",
      " 当然 MIUI9 确切 信息 等待 官方消息\n"
     ]
    }
   ],
   "source": [
    "if not os.path.exists(\"corpus.pkl\"):\n",
    "    #对所有文本进行分词\n",
    "    corpus  = list(map(split_text,[str(i) for i in news.content]))\n",
    "    print(corpus[0])\n",
    "    print(len(corpus))\n",
    "    print(corpus[0])\n",
    "    \n",
    "    #保存到文件，方便下次调用\n",
    "    with open('corpus.pkl','wb') as file:\n",
    "        pickle.dump(corpus,file)\n",
    "else:\n",
    "    #调用上次处理的结果\n",
    "    with open('corpus.pkl','rb') as file:\n",
    "        corpus = pickcle.load(file)"
   ]
  },
  {
   "cell_type": "code",
   "execution_count": 13,
   "metadata": {},
   "outputs": [],
   "source": [
    "#得到corpus的TF-IDF矩阵\n",
    "countvectorizer = CountVectorizer(encoding = 'gb18030', min_df = 0.015)\n",
    "tfidftransformer = TfidfTransformer()"
   ]
  },
  {
   "cell_type": "code",
   "execution_count": 16,
   "metadata": {},
   "outputs": [
    {
     "name": "stdout",
     "output_type": "stream",
     "text": [
      "(87054, 884)\n"
     ]
    }
   ],
   "source": [
    "tfidf = countvectorizer.fit_transform(corpus)\n",
    "print(tfidf.shape)"
   ]
  },
  {
   "cell_type": "code",
   "execution_count": 19,
   "metadata": {},
   "outputs": [],
   "source": [
    "label = list(map(lambda source: 1 if \"新华\" in str(source) else 0, news.source))"
   ]
  },
  {
   "cell_type": "code",
   "execution_count": 22,
   "metadata": {},
   "outputs": [
    {
     "data": {
      "text/plain": [
       "MultinomialNB(alpha=1.0, class_prior=None, fit_prior=True)"
      ]
     },
     "execution_count": 22,
     "metadata": {},
     "output_type": "execute_result"
    }
   ],
   "source": [
    "#数据集切分\n",
    "X_train, X_test, y_train, y_test = train_test_split(tfidf.toarray(),label,test_size = 0.3, random_state = 42)\n",
    "clf = MultinomialNB()\n",
    "clf.fit(X = X_train,y = y_train)"
   ]
  },
  {
   "cell_type": "code",
   "execution_count": 24,
   "metadata": {},
   "outputs": [
    {
     "name": "stdout",
     "output_type": "stream",
     "text": [
      "accuracy: 0.8666768771298388\n",
      "precision: 0.9839923316558831\n",
      "recall: 0.8670551965876937\n",
      "f1_score: 0.9218301005747126\n"
     ]
    }
   ],
   "source": [
    "y_predict = clf.predict(X_test)\n",
    "\n",
    "def show_test_result(y_true,y_pred):\n",
    "    print('accuracy:',accuracy_score(y_true,y_pred))\n",
    "    print('precision:',precision_score(y_true,y_pred))\n",
    "    print('recall:',recall_score(y_true,y_pred))\n",
    "    print('f1_score:',f1_score(y_true,y_pred))\n",
    "    \n",
    "show_test_result(y_test,y_predict)"
   ]
  },
  {
   "cell_type": "code",
   "execution_count": 27,
   "metadata": {},
   "outputs": [
    {
     "name": "stdout",
     "output_type": "stream",
     "text": [
      "可能为copy的新闻条数： 1094\n"
     ]
    }
   ],
   "source": [
    "#使用模型检测抄袭新闻\n",
    "prediction = clf.predict(tfidf.toarray())\n",
    "labels = np.array(label)\n",
    "compare_news_index = pd.DataFrame({'prediction':prediction,'labels':labels})\n",
    "#预测是新华社新闻，但是实际上不是，则视为抄袭，得到这些新闻的index\n",
    "copy_news_index = compare_news_index[(compare_news_index['prediction'] == 1)\n",
    "                                     &(compare_news_index['labels'] == 0)].index \n",
    "#得到实际为新华社新闻的index\n",
    "xinhuashe_news_index = compare_news_index[(compare_news_index['prediction'] ==1)].index\n",
    "print('可能为copy的新闻条数：', len(copy_news_index))"
   ]
  },
  {
   "cell_type": "code",
   "execution_count": 33,
   "metadata": {},
   "outputs": [
    {
     "name": "stdout",
     "output_type": "stream",
     "text": [
      "(87054,)\n",
      "4\n"
     ]
    }
   ],
   "source": [
    "if not os.path.exists(\"label.pkl\"):\n",
    "    # 使用k-means对文章进行聚类\n",
    "    from sklearn.preprocessing import Normalizer\n",
    "    from sklearn.cluster import KMeans\n",
    "    normalizer = Normalizer()\n",
    "    scaled_array = normalizer.fit_transform(tfidf.toarray())\n",
    "    \n",
    "    # 使用K-means，对全量文档进行聚类\n",
    "    kmeans = KMeans(n_clusters = 25, random_state = 42, n_jobs = -1)\n",
    "    k_labels = kmeans.fit_predict(scaled_array)\n",
    "    \n",
    "    #保存到文件，方便下次使用\n",
    "    with open('label.pkl','wb') as file:\n",
    "        pickle.dump(k_labels,file)\n",
    "    print(k_labels.shape)\n",
    "    print(k_labels[0])\n",
    "    \n",
    "else:\n",
    "    #调用上次处理的结果\n",
    "    with open('label.pkl','wb') as file:\n",
    "        k_labels = pickle.load(file)\n",
    "        \n",
    "if not os.path.exists(\"id_class.pkl\"):\n",
    "    # 创建id_class\n",
    "    id_class = {index:class_ for index, class_ in enumerate(k_labels)}\n",
    "    # 保存到文件，方便下次调用\n",
    "    with open('id_class.pkl','wb') as file:\n",
    "        pickle.dump(id_class, file)\n",
    "else:\n",
    "    # 调用上次处理的结果\n",
    "    with open('id_class.pkl','rb') as file:\n",
    "        id_class = pickle.load(file)\n",
    "\n",
    "if not os.path.exists(\"class_id.pkl\"):\n",
    "    from collections import defaultdict\n",
    "    # 创建class_id字段，key为classId,value为文档index\n",
    "    class_id = defaultdict(set)\n",
    "    for index,class_ in id_class.items():\n",
    "        # 只统计新华社发布的class_id\n",
    "        if index in xinhuashe_news_index.tolist():\n",
    "            class_id[class_].add(index)\n",
    "    # 保存到文件，方便下次调用\n",
    "    with open('class_id.pkl','wb') as file:\n",
    "        pickle.dump(class_id, file)\n",
    "else:\n",
    "    # 调用上次处理的结果\n",
    "    with open('class_id.pkl','rb') as file:\n",
    "        class_id = pickle.load(file)"
   ]
  },
  {
   "cell_type": "code",
   "execution_count": 35,
   "metadata": {
    "scrolled": false
   },
   "outputs": [
    {
     "name": "stdout",
     "output_type": "stream",
     "text": [
      "0 6669\n",
      "1 1983\n",
      "2 4193\n",
      "3 2163\n",
      "4 1968\n",
      "5 1535\n",
      "6 1256\n",
      "7 1409\n",
      "8 1112\n",
      "9 2324\n",
      "10 1258\n",
      "11 1993\n",
      "12 437\n",
      "13 1652\n",
      "14 182\n",
      "15 6079\n",
      "16 1837\n",
      "17 3127\n",
      "18 11621\n",
      "19 4438\n",
      "20 3554\n",
      "21 1782\n",
      "22 1992\n",
      "23 3713\n",
      "24 1097\n"
     ]
    }
   ],
   "source": [
    "#输出每个类别的文档个数\n",
    "count = 0\n",
    "for k in class_id:\n",
    "    print(count,len(class_id[k]))\n",
    "    count+=1"
   ]
  },
  {
   "cell_type": "code",
   "execution_count": 37,
   "metadata": {},
   "outputs": [
    {
     "name": "stdout",
     "output_type": "stream",
     "text": [
      "是否在新华社 False\n",
      "是否在copy_news False\n",
      "3134是否在新华社 False\n",
      "3134是否在copy_news False\n"
     ]
    }
   ],
   "source": [
    "import editdistance\n",
    "# 指定某篇文章的相似度\n",
    "#print(copy_news_index)\n",
    "cpindex = 3352 # 在copy_news_index\n",
    "print('是否在新华社', cpindex in xinhuashe_news_index)\n",
    "print('是否在copy_news', cpindex in copy_news_index)\n",
    "print('3134是否在新华社', 3134 in xinhuashe_news_index)\n",
    "print('3134是否在copy_news', 3134 in copy_news_index)"
   ]
  },
  {
   "cell_type": "code",
   "execution_count": 49,
   "metadata": {},
   "outputs": [],
   "source": [
    "# 查找相似文本（使用聚类结果进行filter）\n",
    "def find_similar_text(cpindex, top=10):\n",
    "    # 只在新华社发布的文章中查找\n",
    "    dist_dict={i:cosine_similarity(tfidf[cpindex],tfidf[i]) for i in class_id[id_class[cpindex]]}\n",
    "    # 从大到小进行排序\n",
    "    return sorted(dist_dict.items(),key=lambda x:x[1][0], reverse=True)[:top]"
   ]
  },
  {
   "cell_type": "code",
   "execution_count": 50,
   "metadata": {
    "scrolled": true
   },
   "outputs": [
    {
     "name": "stdout",
     "output_type": "stream",
     "text": [
      "[(29777, array([[0.82516542]])), (63689, array([[0.68450449]])), (61398, array([[0.40178646]])), (19115, array([[0.34947926]])), (56905, array([[0.28478808]])), (3000, array([[0.26553588]])), (22688, array([[0.23966775]])), (17674, array([[0.23796989]])), (17528, array([[0.18896121]])), (49521, array([[0.18148518]]))]\n",
      "怀疑抄袭:\n",
      " 　　中国5月份56座城市新建商品住宅价格环比上涨，4月份为58座上涨。5月份15个一线和热点二线城市房地产市场基本稳定，5月份房地产调控政策效果继续显现。\r\n",
      "　　统计局：15个一线和热点二线城市房价同比涨幅全部回落\r\n",
      "　　国家统计局城市司高级统计师刘建伟解读5月份房价数据\r\n",
      "　　5月份一二线城市房价平均涨幅继续回落\r\n",
      "　　国家统计局今日发布了2017年5月份70个大中城市住宅销售价格统计数据。对此，国家统计局城市司高级统计师刘建伟进行了解读。\r\n",
      "　　一、15个一线和热点二线城市新建商品住宅价格同比涨幅全部回落、9个城市环比下降或持平\r\n",
      "　　5月份，因地制宜、因城施策的房地产调控政策效果继续显现，15个一线和热点二线城市房地产市场基本稳定。从同比看，15个城市新建商品住宅价格涨幅均比上月回落，回落幅度在0.5至6.4个百分点之间。从环比看，9个城市新建商品住宅价格下降或持平；5个城市涨幅在0.5%以内。\r\n",
      "　　二、70个大中城市中一二线城市房价同比涨幅持续回落\r\n",
      "　　5月份，70个城市中新建商品住宅和二手住宅价格同比涨幅比上月回落的城市分别有29和18个。其中，一二线城市同比涨幅回落尤其明显。据测算，一线城市新建商品住宅和二手住宅价格同比涨幅均连续8个月回落，5月份比4月份分别回落2.2和1.7个百分点；二线城市新建商品住宅和二手住宅价格同比涨幅分别连续6个月和4个月回落，5月份比4月份分别回落0.8和0.5个百分点。\r\n",
      "　　三、70个大中城市中房价环比下降及涨幅回落城市个数均有所增加\r\n",
      "　　5月份，70个城市中新建商品住宅价格环比下降的城市有9个，比上月增加1个；涨幅回落的城市有26个，比上月增加3个。二手住宅价格环比下降的城市有7个，比上月增加2个；涨幅回落的城市有30个，比上月增加8个。\r\n",
      "\n",
      "相似原文:\n",
      " 新华社照片，贵阳，2017年4月18日\\n3月份70个大中城市新建商品住宅价格多数环比上涨\\n贵州贵阳的一处商品房小区（4月18日摄）。\\n4月18日，国家统计局发布3月份70个大中城市住宅销售价格数据。统计显示，3月份，70个城市中有8个城市新建商品住宅价格比上月下降，其他城市环比均有所上涨。\\n国家统计局城市司高级统计师刘建伟介绍，从同比看，3月份70个城市中有24个城市新建商品住宅价格涨幅比上月回落，比2月份增加4个，回落城市中18个为一二线城市。\\n新华社记者陶亮摄\n",
      "编辑距离: 649\n"
     ]
    }
   ],
   "source": [
    "#print(cpindex)\n",
    "similar_list = find_similar_text(cpindex)\n",
    "print(similar_list)\n",
    "print('怀疑抄袭:\\n', news.iloc[cpindex].content)\n",
    "# 找一篇相似的原文\n",
    "similar2 = similar_list[0][0]\n",
    "print('相似原文:\\n', news.iloc[similar2].content)\n",
    "# 求任意两篇文章的编辑距离 \n",
    "print('编辑距离:',editdistance.eval(corpus[cpindex], corpus[similar2]))"
   ]
  },
  {
   "cell_type": "code",
   "execution_count": 52,
   "metadata": {
    "scrolled": true
   },
   "outputs": [
    {
     "name": "stdout",
     "output_type": "stream",
     "text": [
      "怀疑抄袭句：其中，一二线城市同比涨幅回落尤其明显\n",
      "相似原句：\\n新华社记者陶亮摄\n",
      "编辑距离：18\n",
      "\n",
      "怀疑抄袭句：对此，国家统计局城市司高级统计师刘建伟进行了解读\n",
      "相似原句：\\n新华社记者陶亮摄\n",
      "编辑距离：24\n",
      "\n",
      "怀疑抄袭句：对此，国家统计局城市司高级统计师刘建伟进行了解读\n",
      "相似原句：\\n4月18日，国家统计局发布3月份70个大中城市住宅销售价格数据\n",
      "编辑距离：27\n",
      "\n",
      "怀疑抄袭句：中国5月份56座城市新建商品住宅价格环比上涨，4月份为58座上涨\n",
      "相似原句：统计显示，3月份，70个城市中有8个城市新建商品住宅价格比上月下降，其他城市环比均有所上涨\n",
      "编辑距离：29\n",
      "\n"
     ]
    }
   ],
   "source": [
    "def find_similar_sentence(candidate,raw):\n",
    "    similist = []\n",
    "    cl = candidate.strip().split('。')\n",
    "    ra = raw.strip().split('。')\n",
    "    for c in cl:\n",
    "        for r in ra:\n",
    "            similist.append([c,r,editdistance.eval(c,r)])\n",
    "    #最相似的5个句子\n",
    "    sort = sorted(similist,key = lambda x:x[2])[:5]\n",
    "    for c,r,ed in sort:\n",
    "        if c != '' and r!='':\n",
    "            print('怀疑抄袭句：{0}\\n相似原句：{1}\\n编辑距离：{2}\\n'.format(c,r,ed))\n",
    "#查找copy文章和第一相似的原文的对比\n",
    "find_similar_sentence(news.iloc[cpindex].content,news.iloc[similar2].content)"
   ]
  },
  {
   "cell_type": "code",
   "execution_count": 48,
   "metadata": {},
   "outputs": [
    {
     "ename": "AttributeError",
     "evalue": "'str' object has no attribute 'ed'",
     "output_type": "error",
     "traceback": [
      "\u001b[1;31m---------------------------------------------------------------------------\u001b[0m",
      "\u001b[1;31mAttributeError\u001b[0m                            Traceback (most recent call last)",
      "\u001b[1;32m<ipython-input-48-bfe7861eca6e>\u001b[0m in \u001b[0;36m<module>\u001b[1;34m\u001b[0m\n\u001b[0;32m      1\u001b[0m \u001b[1;31m#查找copy文章和第一相似的原文的对比\u001b[0m\u001b[1;33m\u001b[0m\u001b[1;33m\u001b[0m\u001b[0m\n\u001b[1;32m----> 2\u001b[1;33m \u001b[0mfind_similar_sentence\u001b[0m\u001b[1;33m(\u001b[0m\u001b[0mnews\u001b[0m\u001b[1;33m.\u001b[0m\u001b[0miloc\u001b[0m\u001b[1;33m[\u001b[0m\u001b[0mcpindex\u001b[0m\u001b[1;33m]\u001b[0m\u001b[1;33m.\u001b[0m\u001b[0mcontent\u001b[0m\u001b[1;33m,\u001b[0m\u001b[0mnews\u001b[0m\u001b[1;33m.\u001b[0m\u001b[0miloc\u001b[0m\u001b[1;33m[\u001b[0m\u001b[0msimilar2\u001b[0m\u001b[1;33m]\u001b[0m\u001b[1;33m.\u001b[0m\u001b[0mcontent\u001b[0m\u001b[1;33m)\u001b[0m\u001b[1;33m\u001b[0m\u001b[0m\n\u001b[0m",
      "\u001b[1;32m<ipython-input-46-4ec498e3d9f0>\u001b[0m in \u001b[0;36mfind_similar_sentence\u001b[1;34m(candidate, raw)\u001b[0m\n\u001b[0;32m     10\u001b[0m     \u001b[1;32mfor\u001b[0m \u001b[0mc\u001b[0m\u001b[1;33m,\u001b[0m\u001b[0mr\u001b[0m\u001b[1;33m,\u001b[0m\u001b[0med\u001b[0m \u001b[1;32min\u001b[0m \u001b[0msort\u001b[0m\u001b[1;33m:\u001b[0m\u001b[1;33m\u001b[0m\u001b[0m\n\u001b[0;32m     11\u001b[0m         \u001b[1;32mif\u001b[0m \u001b[0mc\u001b[0m \u001b[1;33m!=\u001b[0m \u001b[1;34m''\u001b[0m \u001b[1;32mand\u001b[0m \u001b[0mr\u001b[0m\u001b[1;33m!=\u001b[0m\u001b[1;34m''\u001b[0m\u001b[1;33m:\u001b[0m\u001b[1;33m\u001b[0m\u001b[0m\n\u001b[1;32m---> 12\u001b[1;33m             \u001b[0mprint\u001b[0m\u001b[1;33m(\u001b[0m\u001b[1;34m'怀疑抄袭句：{0}\\n相似原句：{1}\\n编辑距离：{2}\\n'\u001b[0m\u001b[1;33m.\u001b[0m\u001b[0mformat\u001b[0m\u001b[1;33m(\u001b[0m\u001b[0mc\u001b[0m\u001b[1;33m,\u001b[0m\u001b[0mr\u001b[0m\u001b[1;33m.\u001b[0m\u001b[0med\u001b[0m\u001b[1;33m)\u001b[0m\u001b[1;33m)\u001b[0m\u001b[1;33m\u001b[0m\u001b[0m\n\u001b[0m",
      "\u001b[1;31mAttributeError\u001b[0m: 'str' object has no attribute 'ed'"
     ]
    }
   ],
   "source": []
  },
  {
   "cell_type": "code",
   "execution_count": null,
   "metadata": {},
   "outputs": [],
   "source": []
  }
 ],
 "metadata": {
  "kernelspec": {
   "display_name": "Python 3",
   "language": "python",
   "name": "python3"
  },
  "language_info": {
   "codemirror_mode": {
    "name": "ipython",
    "version": 3
   },
   "file_extension": ".py",
   "mimetype": "text/x-python",
   "name": "python",
   "nbconvert_exporter": "python",
   "pygments_lexer": "ipython3",
   "version": "3.6.5"
  }
 },
 "nbformat": 4,
 "nbformat_minor": 2
}
